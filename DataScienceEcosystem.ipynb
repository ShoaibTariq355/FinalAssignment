{
 "cells": [
  {
   "cell_type": "markdown",
   "id": "9c989864-49fd-47d6-9930-c64710b938d1",
   "metadata": {},
   "source": [
    "# Data Science Tools and Ecosystem\n"
   ]
  },
  {
   "cell_type": "markdown",
   "id": "cdee0421-ed03-4bed-ae35-f632ef903fe4",
   "metadata": {},
   "source": [
    "### In this notebook, Data Science Tools and Ecosystem are summarized."
   ]
  },
  {
   "cell_type": "markdown",
   "id": "711f0a44-d2fb-4c27-b19c-9fdf3a8d621f",
   "metadata": {},
   "source": [
    "**Objectives**\n",
    "- popular language for data science\n",
    "- commonly used libraries used by data scientists\n",
    "- data science tools\n",
    "- evaluating arithmetic expressions in Python\n",
    "## Author\n",
    "Shoaib Tariq"
   ]
  },
  {
   "cell_type": "markdown",
   "id": "d2bcda98-b34b-4a57-a9bd-b84d331a79b8",
   "metadata": {},
   "source": [
    "##### Some of the popular languages that Data Scientists use are:\n",
    "1. Python\n",
    "2. R\n",
    "3. SQL"
   ]
  },
  {
   "cell_type": "markdown",
   "id": "9723ee29-eea8-4959-8ec8-ad74d2a2000f",
   "metadata": {},
   "source": [
    "#### Some of the commonly used libraries used by Data Scientists include:\n",
    "1. Matplotlib\n",
    "2. Seaborn\n",
    "3. Scikit-learn\n",
    "4. Pandas"
   ]
  },
  {
   "cell_type": "markdown",
   "id": "532a6bc4-8639-4a38-a4a8-13f5f014e2f5",
   "metadata": {},
   "source": [
    "|Data Science Tools|\n",
    "|-|\n",
    "| Jupyter Notebook|\n",
    "|. RStudio|\n",
    "|3. VS Code|"
   ]
  },
  {
   "cell_type": "markdown",
   "id": "bba3c57b-bb1a-474b-99ec-a20eeca0b19a",
   "metadata": {},
   "source": [
    "### Below are a few examples of evaluating arithmetic expressions in Python"
   ]
  },
  {
   "cell_type": "code",
   "execution_count": 24,
   "id": "f21f40b6-02b3-4239-a289-e9f16f30e96a",
   "metadata": {},
   "outputs": [
    {
     "data": {
      "text/plain": [
       "17"
      ]
     },
     "execution_count": 24,
     "metadata": {},
     "output_type": "execute_result"
    }
   ],
   "source": [
    "(3*4)+5 #This a simple arithmetic expression to mutiply then add integers"
   ]
  },
  {
   "cell_type": "markdown",
   "id": "62f37be8-22c5-422e-b1ac-672442b2f7f7",
   "metadata": {},
   "source": [
    " This will convert 200 minutes to hours by diving by 60"
   ]
  },
  {
   "cell_type": "code",
   "execution_count": 32,
   "id": "06d6c14b-3ec5-4485-b046-a12e0c7ce9d6",
   "metadata": {},
   "outputs": [
    {
     "name": "stdout",
     "output_type": "stream",
     "text": [
      "3.3333333333333335 hours\n"
     ]
    }
   ],
   "source": [
    "a=200/60\n",
    "print(a,'hours')"
   ]
  },
  {
   "cell_type": "code",
   "execution_count": null,
   "id": "bef14246-fef1-47a8-a952-a55bd44e44e4",
   "metadata": {},
   "outputs": [],
   "source": []
  }
 ],
 "metadata": {
  "kernelspec": {
   "display_name": "Python 3 (ipykernel)",
   "language": "python",
   "name": "python3"
  },
  "language_info": {
   "codemirror_mode": {
    "name": "ipython",
    "version": 3
   },
   "file_extension": ".py",
   "mimetype": "text/x-python",
   "name": "python",
   "nbconvert_exporter": "python",
   "pygments_lexer": "ipython3",
   "version": "3.12.8"
  }
 },
 "nbformat": 4,
 "nbformat_minor": 5
}
